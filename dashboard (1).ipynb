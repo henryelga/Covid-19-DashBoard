{
 "cells": [
  {
   "cell_type": "code",
   "execution_count": 177,
   "id": "c7231bbf",
   "metadata": {},
   "outputs": [],
   "source": [
    "import requests\n",
    "import json\n",
    "import pandas as pd\n",
    "import plotly.express as px\n",
    "from IPython.core.display import display, HTML\n",
    "from ipywidgets import Layout\n",
    "import ipywidgets as widgets"
   ]
  },
  {
   "cell_type": "code",
   "execution_count": 9,
   "id": "11478ac3",
   "metadata": {},
   "outputs": [],
   "source": [
    "url = 'https://api.covid19india.org/state_district_wise.json'\n",
    "data = requests.get(url).json()"
   ]
  },
  {
   "cell_type": "code",
   "execution_count": 10,
   "id": "12af1e6e",
   "metadata": {
    "scrolled": true
   },
   "outputs": [
    {
     "data": {
      "text/html": [
       "<div><h1 style = 'text-align: center; font-size:30px;'><strong>Covid - 19 DashBoard<strong></h1></div>"
      ],
      "text/plain": [
       "<IPython.core.display.HTML object>"
      ]
     },
     "metadata": {},
     "output_type": "display_data"
    }
   ],
   "source": [
    "display(HTML(\"<div><h1 style = 'text-align: center; font-size:30px;'><strong>Covid - 19 DashBoard<strong></h1></div>\"))"
   ]
  },
  {
   "cell_type": "code",
   "execution_count": 11,
   "id": "923c6921",
   "metadata": {},
   "outputs": [],
   "source": [
    "result = []\n",
    "for state in data:\n",
    "    confirmed = 0\n",
    "    deceased = 0\n",
    "    recovered = 0\n",
    "    for district in data[state][\"districtData\"]:\n",
    "        confirmed += data[state][\"districtData\"][district][\"confirmed\"]\n",
    "        recovered += data[state][\"districtData\"][district][\"recovered\"]\n",
    "        deceased += data[state][\"districtData\"][district][\"deceased\"]\n",
    "        \n",
    "    result.append([state, confirmed, recovered, deceased])"
   ]
  },
  {
   "cell_type": "code",
   "execution_count": 12,
   "id": "6c73effb",
   "metadata": {},
   "outputs": [],
   "source": [
    "result = result[1:]"
   ]
  },
  {
   "cell_type": "code",
   "execution_count": 13,
   "id": "2d781bdf",
   "metadata": {},
   "outputs": [],
   "source": [
    "df = pd.DataFrame(columns = ['States', 'Confirmed', 'Recovered', 'Deceased'])"
   ]
  },
  {
   "cell_type": "code",
   "execution_count": 14,
   "id": "66612ca8",
   "metadata": {},
   "outputs": [],
   "source": [
    "for i in range(len(result)):\n",
    "    df.loc[i] = [result[i][0], result[i][1], result[i][2], result[i][3]]"
   ]
  },
  {
   "cell_type": "code",
   "execution_count": 15,
   "id": "39724173",
   "metadata": {},
   "outputs": [],
   "source": [
    "confirmed_total = int(df['Confirmed'].sum())\n",
    "recovered_total = int(df['Recovered'].sum())\n",
    "deceased_total = int(df['Deceased'].sum())"
   ]
  },
  {
   "cell_type": "code",
   "execution_count": 16,
   "id": "ee21e970",
   "metadata": {},
   "outputs": [
    {
     "data": {
      "text/html": [
       "<div style = 'text-align: center; background-color: #E0E1E9; padding: 25px; font-family:verdana; '><span style='color: #000; font-size:25px;'> Confirmed: 28808443</span><span style='color: #2bba0f; font-size:25px;margin-left:20px;'> Recovered: 26976865</span><span style='color: #f2493a; font-size:25px; margin-left:20px;'> Deceased: 346785</span></div>"
      ],
      "text/plain": [
       "<IPython.core.display.HTML object>"
      ]
     },
     "metadata": {},
     "output_type": "display_data"
    }
   ],
   "source": [
    "display(HTML(\"<div style = 'text-align: center; background-color: #E0E1E9; padding: 25px; font-family:verdana; '>\" +\n",
    "             \"<span style='color: #000; font-size:25px;'> Confirmed: \"  + str(confirmed_total) +\"</span>\" +\n",
    "             \"<span style='color: #2bba0f; font-size:25px;margin-left:20px;'> Recovered: \" + str(recovered_total) + \"</span>\"+\n",
    "             \"<span style='color: #f2493a; font-size:25px; margin-left:20px;'> Deceased: \" + str(deceased_total) + \"</span>\"+\n",
    "             \"</div>\")\n",
    "       )"
   ]
  },
  {
   "cell_type": "code",
   "execution_count": 17,
   "id": "d17e5188",
   "metadata": {},
   "outputs": [
    {
     "data": {
      "text/html": [
       "<div><h2>List of Covid-19 Cases in All States of India</h2></div>"
      ],
      "text/plain": [
       "<IPython.core.display.HTML object>"
      ]
     },
     "metadata": {},
     "output_type": "display_data"
    }
   ],
   "source": [
    "display(HTML(\"<div><h2>List of Covid-19 Cases in All States of India</h2></div>\"))"
   ]
  },
  {
   "cell_type": "code",
   "execution_count": 18,
   "id": "c68129a5",
   "metadata": {},
   "outputs": [
    {
     "data": {
      "text/html": [
       "<div>\n",
       "<style scoped>\n",
       "    .dataframe tbody tr th:only-of-type {\n",
       "        vertical-align: middle;\n",
       "    }\n",
       "\n",
       "    .dataframe tbody tr th {\n",
       "        vertical-align: top;\n",
       "    }\n",
       "\n",
       "    .dataframe thead th {\n",
       "        text-align: right;\n",
       "    }\n",
       "</style>\n",
       "<table border=\"1\" class=\"dataframe\">\n",
       "  <thead>\n",
       "    <tr style=\"text-align: right;\">\n",
       "      <th></th>\n",
       "      <th>States</th>\n",
       "      <th>Confirmed</th>\n",
       "      <th>Recovered</th>\n",
       "      <th>Deceased</th>\n",
       "    </tr>\n",
       "  </thead>\n",
       "  <tbody>\n",
       "    <tr>\n",
       "      <th>0</th>\n",
       "      <td>Andaman and Nicobar Islands</td>\n",
       "      <td>7105</td>\n",
       "      <td>6876</td>\n",
       "      <td>122</td>\n",
       "    </tr>\n",
       "    <tr>\n",
       "      <th>1</th>\n",
       "      <td>Andhra Pradesh</td>\n",
       "      <td>1749363</td>\n",
       "      <td>1609879</td>\n",
       "      <td>11376</td>\n",
       "    </tr>\n",
       "    <tr>\n",
       "      <th>2</th>\n",
       "      <td>Arunachal Pradesh</td>\n",
       "      <td>29113</td>\n",
       "      <td>25237</td>\n",
       "      <td>123</td>\n",
       "    </tr>\n",
       "    <tr>\n",
       "      <th>3</th>\n",
       "      <td>Assam</td>\n",
       "      <td>432714</td>\n",
       "      <td>376343</td>\n",
       "      <td>3621</td>\n",
       "    </tr>\n",
       "    <tr>\n",
       "      <th>4</th>\n",
       "      <td>Bihar</td>\n",
       "      <td>712197</td>\n",
       "      <td>697229</td>\n",
       "      <td>5340</td>\n",
       "    </tr>\n",
       "    <tr>\n",
       "      <th>5</th>\n",
       "      <td>Chandigarh</td>\n",
       "      <td>60585</td>\n",
       "      <td>58892</td>\n",
       "      <td>768</td>\n",
       "    </tr>\n",
       "    <tr>\n",
       "      <th>6</th>\n",
       "      <td>Chhattisgarh</td>\n",
       "      <td>979576</td>\n",
       "      <td>941489</td>\n",
       "      <td>13192</td>\n",
       "    </tr>\n",
       "    <tr>\n",
       "      <th>7</th>\n",
       "      <td>Delhi</td>\n",
       "      <td>1428863</td>\n",
       "      <td>1397575</td>\n",
       "      <td>24557</td>\n",
       "    </tr>\n",
       "    <tr>\n",
       "      <th>8</th>\n",
       "      <td>Dadra and Nagar Haveli and Daman and Diu</td>\n",
       "      <td>10414</td>\n",
       "      <td>10145</td>\n",
       "      <td>4</td>\n",
       "    </tr>\n",
       "    <tr>\n",
       "      <th>9</th>\n",
       "      <td>Goa</td>\n",
       "      <td>158990</td>\n",
       "      <td>148030</td>\n",
       "      <td>2744</td>\n",
       "    </tr>\n",
       "    <tr>\n",
       "      <th>10</th>\n",
       "      <td>Gujarat</td>\n",
       "      <td>815386</td>\n",
       "      <td>785378</td>\n",
       "      <td>9921</td>\n",
       "    </tr>\n",
       "    <tr>\n",
       "      <th>11</th>\n",
       "      <td>Himachal Pradesh</td>\n",
       "      <td>194742</td>\n",
       "      <td>181972</td>\n",
       "      <td>3263</td>\n",
       "    </tr>\n",
       "    <tr>\n",
       "      <th>12</th>\n",
       "      <td>Haryana</td>\n",
       "      <td>761637</td>\n",
       "      <td>742999</td>\n",
       "      <td>8664</td>\n",
       "    </tr>\n",
       "    <tr>\n",
       "      <th>13</th>\n",
       "      <td>Jharkhand</td>\n",
       "      <td>340925</td>\n",
       "      <td>329640</td>\n",
       "      <td>5046</td>\n",
       "    </tr>\n",
       "    <tr>\n",
       "      <th>14</th>\n",
       "      <td>Jammu and Kashmir</td>\n",
       "      <td>299050</td>\n",
       "      <td>266576</td>\n",
       "      <td>4051</td>\n",
       "    </tr>\n",
       "    <tr>\n",
       "      <th>15</th>\n",
       "      <td>Karnataka</td>\n",
       "      <td>2683314</td>\n",
       "      <td>2383758</td>\n",
       "      <td>31260</td>\n",
       "    </tr>\n",
       "    <tr>\n",
       "      <th>16</th>\n",
       "      <td>Kerala</td>\n",
       "      <td>2618411</td>\n",
       "      <td>2440300</td>\n",
       "      <td>9720</td>\n",
       "    </tr>\n",
       "    <tr>\n",
       "      <th>17</th>\n",
       "      <td>Ladakh</td>\n",
       "      <td>19147</td>\n",
       "      <td>17782</td>\n",
       "      <td>195</td>\n",
       "    </tr>\n",
       "    <tr>\n",
       "      <th>18</th>\n",
       "      <td>Lakshadweep</td>\n",
       "      <td>8667</td>\n",
       "      <td>7437</td>\n",
       "      <td>38</td>\n",
       "    </tr>\n",
       "    <tr>\n",
       "      <th>19</th>\n",
       "      <td>Maharashtra</td>\n",
       "      <td>5819224</td>\n",
       "      <td>5528834</td>\n",
       "      <td>99512</td>\n",
       "    </tr>\n",
       "    <tr>\n",
       "      <th>20</th>\n",
       "      <td>Meghalaya</td>\n",
       "      <td>38230</td>\n",
       "      <td>31781</td>\n",
       "      <td>652</td>\n",
       "    </tr>\n",
       "    <tr>\n",
       "      <th>21</th>\n",
       "      <td>Manipur</td>\n",
       "      <td>54407</td>\n",
       "      <td>44519</td>\n",
       "      <td>872</td>\n",
       "    </tr>\n",
       "    <tr>\n",
       "      <th>22</th>\n",
       "      <td>Madhya Pradesh</td>\n",
       "      <td>784461</td>\n",
       "      <td>764822</td>\n",
       "      <td>8295</td>\n",
       "    </tr>\n",
       "    <tr>\n",
       "      <th>23</th>\n",
       "      <td>Mizoram</td>\n",
       "      <td>13300</td>\n",
       "      <td>10151</td>\n",
       "      <td>52</td>\n",
       "    </tr>\n",
       "    <tr>\n",
       "      <th>24</th>\n",
       "      <td>Nagaland</td>\n",
       "      <td>22696</td>\n",
       "      <td>16814</td>\n",
       "      <td>422</td>\n",
       "    </tr>\n",
       "    <tr>\n",
       "      <th>25</th>\n",
       "      <td>Odisha</td>\n",
       "      <td>806094</td>\n",
       "      <td>732018</td>\n",
       "      <td>3005</td>\n",
       "    </tr>\n",
       "    <tr>\n",
       "      <th>26</th>\n",
       "      <td>Punjab</td>\n",
       "      <td>577997</td>\n",
       "      <td>538534</td>\n",
       "      <td>15009</td>\n",
       "    </tr>\n",
       "    <tr>\n",
       "      <th>27</th>\n",
       "      <td>Puducherry</td>\n",
       "      <td>108439</td>\n",
       "      <td>98043</td>\n",
       "      <td>1613</td>\n",
       "    </tr>\n",
       "    <tr>\n",
       "      <th>28</th>\n",
       "      <td>Rajasthan</td>\n",
       "      <td>945442</td>\n",
       "      <td>915261</td>\n",
       "      <td>8631</td>\n",
       "    </tr>\n",
       "    <tr>\n",
       "      <th>29</th>\n",
       "      <td>Sikkim</td>\n",
       "      <td>16771</td>\n",
       "      <td>12049</td>\n",
       "      <td>268</td>\n",
       "    </tr>\n",
       "    <tr>\n",
       "      <th>30</th>\n",
       "      <td>Telangana</td>\n",
       "      <td>589734</td>\n",
       "      <td>557162</td>\n",
       "      <td>3364</td>\n",
       "    </tr>\n",
       "    <tr>\n",
       "      <th>31</th>\n",
       "      <td>Tamil Nadu</td>\n",
       "      <td>2216812</td>\n",
       "      <td>1932778</td>\n",
       "      <td>26571</td>\n",
       "    </tr>\n",
       "    <tr>\n",
       "      <th>32</th>\n",
       "      <td>Tripura</td>\n",
       "      <td>54577</td>\n",
       "      <td>47603</td>\n",
       "      <td>547</td>\n",
       "    </tr>\n",
       "    <tr>\n",
       "      <th>33</th>\n",
       "      <td>Uttar Pradesh</td>\n",
       "      <td>1697352</td>\n",
       "      <td>1656763</td>\n",
       "      <td>21151</td>\n",
       "    </tr>\n",
       "    <tr>\n",
       "      <th>34</th>\n",
       "      <td>Uttarakhand</td>\n",
       "      <td>333578</td>\n",
       "      <td>303659</td>\n",
       "      <td>6664</td>\n",
       "    </tr>\n",
       "    <tr>\n",
       "      <th>35</th>\n",
       "      <td>West Bengal</td>\n",
       "      <td>1419130</td>\n",
       "      <td>1358537</td>\n",
       "      <td>16152</td>\n",
       "    </tr>\n",
       "  </tbody>\n",
       "</table>\n",
       "</div>"
      ],
      "text/plain": [
       "                                      States Confirmed Recovered Deceased\n",
       "0                Andaman and Nicobar Islands      7105      6876      122\n",
       "1                             Andhra Pradesh   1749363   1609879    11376\n",
       "2                          Arunachal Pradesh     29113     25237      123\n",
       "3                                      Assam    432714    376343     3621\n",
       "4                                      Bihar    712197    697229     5340\n",
       "5                                 Chandigarh     60585     58892      768\n",
       "6                               Chhattisgarh    979576    941489    13192\n",
       "7                                      Delhi   1428863   1397575    24557\n",
       "8   Dadra and Nagar Haveli and Daman and Diu     10414     10145        4\n",
       "9                                        Goa    158990    148030     2744\n",
       "10                                   Gujarat    815386    785378     9921\n",
       "11                          Himachal Pradesh    194742    181972     3263\n",
       "12                                   Haryana    761637    742999     8664\n",
       "13                                 Jharkhand    340925    329640     5046\n",
       "14                         Jammu and Kashmir    299050    266576     4051\n",
       "15                                 Karnataka   2683314   2383758    31260\n",
       "16                                    Kerala   2618411   2440300     9720\n",
       "17                                    Ladakh     19147     17782      195\n",
       "18                               Lakshadweep      8667      7437       38\n",
       "19                               Maharashtra   5819224   5528834    99512\n",
       "20                                 Meghalaya     38230     31781      652\n",
       "21                                   Manipur     54407     44519      872\n",
       "22                            Madhya Pradesh    784461    764822     8295\n",
       "23                                   Mizoram     13300     10151       52\n",
       "24                                  Nagaland     22696     16814      422\n",
       "25                                    Odisha    806094    732018     3005\n",
       "26                                    Punjab    577997    538534    15009\n",
       "27                                Puducherry    108439     98043     1613\n",
       "28                                 Rajasthan    945442    915261     8631\n",
       "29                                    Sikkim     16771     12049      268\n",
       "30                                 Telangana    589734    557162     3364\n",
       "31                                Tamil Nadu   2216812   1932778    26571\n",
       "32                                   Tripura     54577     47603      547\n",
       "33                             Uttar Pradesh   1697352   1656763    21151\n",
       "34                               Uttarakhand    333578    303659     6664\n",
       "35                               West Bengal   1419130   1358537    16152"
      ]
     },
     "execution_count": 18,
     "metadata": {},
     "output_type": "execute_result"
    }
   ],
   "source": [
    "df"
   ]
  },
  {
   "cell_type": "code",
   "execution_count": 19,
   "id": "ccde6b44",
   "metadata": {},
   "outputs": [],
   "source": [
    "top_states = df.sort_values('Confirmed', ascending= False)\n",
    "low_states = df.sort_values('Confirmed', ascending= True)"
   ]
  },
  {
   "cell_type": "code",
   "execution_count": 94,
   "id": "1672ad90",
   "metadata": {},
   "outputs": [],
   "source": [
    "style = {'description_width' : 'initial'}\n",
    "\n",
    "aff_states = widgets.IntSlider(value = 10, min = 2, max = len(df)//2, step = 1, description = 'Top Affected States: ', \n",
    "                              disabled = False, layout = Layout(width = '70%'), style = style)\n",
    "aff_states.style.handle_color = 'red'"
   ]
  },
  {
   "cell_type": "code",
   "execution_count": 95,
   "id": "5677a7aa",
   "metadata": {},
   "outputs": [],
   "source": [
    "def update_top_aff(val):\n",
    "    aff = df\n",
    "    aff = aff.iloc[0:val, :]\n",
    "    \n",
    "    display(HTML(\"<br><br><div><h2>Top \" + str(len(aff)) + \" Affected States in India</h2></div> <br>\"))\n",
    "    \n",
    "    fig1 = px.scatter(top_states.head(val), x = 'States', y = 'Confirmed', \n",
    "                color = 'States', hover_name = 'States')\n",
    "    fig1.update_layout(xaxis_title=\"States\", yaxis_title=\"Confirmed Cases\")\n",
    "    fig1.show()"
   ]
  },
  {
   "cell_type": "markdown",
   "id": "bb231794",
   "metadata": {},
   "source": [
    "<br>\n",
    "<br>"
   ]
  },
  {
   "cell_type": "code",
   "execution_count": 145,
   "id": "505a5b71",
   "metadata": {},
   "outputs": [
    {
     "data": {
      "application/vnd.jupyter.widget-view+json": {
       "model_id": "5791e743095d4d4383ff0fbbe73deb53",
       "version_major": 2,
       "version_minor": 0
      },
      "text/plain": [
       "interactive(children=(IntSlider(value=18, description='Top Affected States: ', layout=Layout(width='70%'), max…"
      ]
     },
     "metadata": {},
     "output_type": "display_data"
    }
   ],
   "source": [
    "widgets.interactive(update_top_aff, val = aff_states)"
   ]
  },
  {
   "cell_type": "code",
   "execution_count": 91,
   "id": "344d1c93",
   "metadata": {},
   "outputs": [],
   "source": [
    "style = {'description_width' : 'initial'}\n",
    "\n",
    "least_aff_states = widgets.IntSlider(value = 10, min = 2, max = len(df)//2, step = 1, \n",
    "                                     description = 'Least Affected States: ', disabled = False, layout = Layout(width = '70%'), style = style)\n",
    "least_aff_states.style.handle_color = 'orange'"
   ]
  },
  {
   "cell_type": "code",
   "execution_count": 92,
   "id": "900b1a8d",
   "metadata": {},
   "outputs": [],
   "source": [
    "def update_least_aff(val):\n",
    "    least = df\n",
    "    least = least.iloc[0:val, :]\n",
    "    \n",
    "    display(HTML(\"<br><br><div><h2>Least \" + str(len(least)) + \" Affected States in India</h2></div> <br>\"))\n",
    "    \n",
    "    fig2 = px.scatter(low_states.head(val), x = 'States', y = 'Confirmed', \n",
    "                color = 'States', hover_name = 'States')\n",
    "    fig2.update_layout(xaxis_title=\"States\", yaxis_title=\"Confirmed Cases\")\n",
    "    fig2.show()"
   ]
  },
  {
   "cell_type": "markdown",
   "id": "818e9205",
   "metadata": {},
   "source": [
    "<br>\n",
    "<br>"
   ]
  },
  {
   "cell_type": "code",
   "execution_count": 93,
   "id": "ca2ac533",
   "metadata": {},
   "outputs": [
    {
     "data": {
      "application/vnd.jupyter.widget-view+json": {
       "model_id": "a7fa52b5e6d2497ead06c22ecd847ed0",
       "version_major": 2,
       "version_minor": 0
      },
      "text/plain": [
       "interactive(children=(IntSlider(value=10, description='Least Affected States: ', layout=Layout(width='70%'), m…"
      ]
     },
     "metadata": {},
     "output_type": "display_data"
    }
   ],
   "source": [
    "widgets.interactive(update_least_aff, val = least_aff_states)"
   ]
  },
  {
   "cell_type": "code",
   "execution_count": 100,
   "id": "cbdc6614",
   "metadata": {},
   "outputs": [],
   "source": [
    "top_death = df.sort_values('Deceased', ascending= False)\n",
    "low_death = df.sort_values('Deceased', ascending= True)"
   ]
  },
  {
   "cell_type": "code",
   "execution_count": 101,
   "id": "905f37e0",
   "metadata": {},
   "outputs": [],
   "source": [
    "style = {'description_width' : 'initial'}\n",
    "\n",
    "death_states = widgets.IntSlider(value = 10, min = 2, max = len(df)//2, step = 1, \n",
    "                                     description = 'Highest Death Rate States: ', disabled = False, \n",
    "                                 layout = Layout(width = '70%'), style = style)\n",
    "death_states.style.handle_color = 'black'"
   ]
  },
  {
   "cell_type": "code",
   "execution_count": 110,
   "id": "323adc04",
   "metadata": {},
   "outputs": [],
   "source": [
    "def update_death_states(val):\n",
    "    hi_death = df\n",
    "    hi_death = hi_death.iloc[0:val, :]\n",
    "    \n",
    "    display(HTML(\"<br><br><div><h2>Top \" + str(len(hi_death)) + \" States with Highest Death Rate in India</h2></div> <br>\"))\n",
    "    \n",
    "    res = px.bar(data_frame = top_death.head(val), x = 'States', y = 'Deceased')\n",
    "    res.show()"
   ]
  },
  {
   "cell_type": "markdown",
   "id": "b8259366",
   "metadata": {},
   "source": [
    "<br>\n",
    "<br>"
   ]
  },
  {
   "cell_type": "code",
   "execution_count": 111,
   "id": "62295a45",
   "metadata": {},
   "outputs": [
    {
     "data": {
      "application/vnd.jupyter.widget-view+json": {
       "model_id": "bb8e3dfa1ffd404b9e922668e45d2a61",
       "version_major": 2,
       "version_minor": 0
      },
      "text/plain": [
       "interactive(children=(IntSlider(value=10, description='Highest Death Rate States: ', layout=Layout(width='70%'…"
      ]
     },
     "metadata": {},
     "output_type": "display_data"
    }
   ],
   "source": [
    "widgets.interactive(update_death_states, val = death_states)"
   ]
  },
  {
   "cell_type": "code",
   "execution_count": 112,
   "id": "1533ee89",
   "metadata": {},
   "outputs": [],
   "source": [
    "style = {'description_width' : 'initial'}\n",
    "\n",
    "low_death_states = widgets.IntSlider(value = 10, min = 2, max = len(df)//2, step = 1, \n",
    "                                     description = 'Lowest Death Rate States: ', disabled = False, \n",
    "                                 layout = Layout(width = '70%'), style = style)\n",
    "low_death_states.style.handle_color = 'black'"
   ]
  },
  {
   "cell_type": "code",
   "execution_count": 128,
   "id": "1a7f8f7f",
   "metadata": {},
   "outputs": [],
   "source": [
    "def update_low_death_states(val):\n",
    "    lo_death = low_death\n",
    "    lo_death = lo_death.iloc[0:val, :]\n",
    "    \n",
    "    display(HTML(\"<br><br><div><h2> \" + str(len(lo_death)) + \" States with Lowest Death Rate in India</h2></div> <br>\"))\n",
    "    \n",
    "    res = px.bar(data_frame = low_death.head(val), x = 'States', y = 'Deceased')\n",
    "    res.show()"
   ]
  },
  {
   "cell_type": "markdown",
   "id": "a7c24e45",
   "metadata": {},
   "source": [
    "<br>\n",
    "<br>"
   ]
  },
  {
   "cell_type": "code",
   "execution_count": 146,
   "id": "3d5d839f",
   "metadata": {},
   "outputs": [
    {
     "data": {
      "application/vnd.jupyter.widget-view+json": {
       "model_id": "00ce3bfb925146bf899afab91679f6a9",
       "version_major": 2,
       "version_minor": 0
      },
      "text/plain": [
       "interactive(children=(IntSlider(value=2, description='Lowest Death Rate States: ', layout=Layout(width='70%'),…"
      ]
     },
     "metadata": {},
     "output_type": "display_data"
    }
   ],
   "source": [
    "widgets.interactive(update_low_death_states, val = low_death_states)"
   ]
  },
  {
   "cell_type": "code",
   "execution_count": 148,
   "id": "770809a0",
   "metadata": {},
   "outputs": [],
   "source": [
    "top_rec = df.sort_values('Recovered', ascending= False)\n",
    "low_rec = df.sort_values('Recovered', ascending= True)"
   ]
  },
  {
   "cell_type": "code",
   "execution_count": 139,
   "id": "1575f44c",
   "metadata": {},
   "outputs": [],
   "source": [
    "style = {'description_width' : 'initial'}\n",
    "\n",
    "hi_rec_states = widgets.IntSlider(value = 10, min = 2, max = len(df)//2, step = 1, \n",
    "                                     description = 'Highest Recovery Rate States: ', disabled = False, \n",
    "                                 layout = Layout(width = '70%'), style = style)\n",
    "hi_rec_states.style.handle_color = 'green'"
   ]
  },
  {
   "cell_type": "code",
   "execution_count": 140,
   "id": "a0e58493",
   "metadata": {},
   "outputs": [],
   "source": [
    "def update_high_rec_states(val):\n",
    "    hi_rec = top_rec\n",
    "    hi_rec = hi_rec.iloc[0:val, :]\n",
    "    \n",
    "    display(HTML(\"<br><br><div><h2> \" + str(len(hi_rec)) + \" States with Highest Recovery Rate in India</h2></div> <br>\"))\n",
    "    \n",
    "    res = px.bar(data_frame = top_rec.head(val), x = 'Recovered', y = 'States', orientation='h')\n",
    "    res.show()"
   ]
  },
  {
   "cell_type": "markdown",
   "id": "903a7984",
   "metadata": {},
   "source": [
    "<br>\n",
    "<br>"
   ]
  },
  {
   "cell_type": "code",
   "execution_count": 141,
   "id": "54891ea0",
   "metadata": {},
   "outputs": [
    {
     "data": {
      "application/vnd.jupyter.widget-view+json": {
       "model_id": "89fdfc5556bc462f86f5deee8b928d13",
       "version_major": 2,
       "version_minor": 0
      },
      "text/plain": [
       "interactive(children=(IntSlider(value=10, description='Highest Recovery Rate States: ', layout=Layout(width='7…"
      ]
     },
     "metadata": {},
     "output_type": "display_data"
    }
   ],
   "source": [
    "widgets.interactive(update_high_rec_states, val = hi_rec_states)"
   ]
  },
  {
   "cell_type": "code",
   "execution_count": 142,
   "id": "6bea29de",
   "metadata": {},
   "outputs": [],
   "source": [
    "style = {'description_width' : 'initial'}\n",
    "\n",
    "low_rec_states = widgets.IntSlider(value = 10, min = 2, max = len(df)//2, step = 1, \n",
    "                                     description = 'Lowest Recovery Rate States: ', disabled = False, \n",
    "                                 layout = Layout(width = '70%'), style = style)\n",
    "low_rec_states.style.handle_color = 'green'"
   ]
  },
  {
   "cell_type": "code",
   "execution_count": 143,
   "id": "5c8f4ad0",
   "metadata": {},
   "outputs": [],
   "source": [
    "def update_low_rec_states(val):\n",
    "    lo_rec = low_rec\n",
    "    lo_rec = lo_rec.iloc[0:val, :]\n",
    "    \n",
    "    display(HTML(\"<br><br><div><h2> \" + str(len(lo_rec)) + \" States with Lowest Recovery Rate in India</h2></div> <br>\"))\n",
    "    \n",
    "    res = px.bar(data_frame = low_rec.head(10), x = 'Recovered', y = 'States', orientation='h')\n",
    "    res.show()"
   ]
  },
  {
   "cell_type": "markdown",
   "id": "a81e1c27",
   "metadata": {},
   "source": [
    "<br>\n",
    "<br>"
   ]
  },
  {
   "cell_type": "code",
   "execution_count": 144,
   "id": "1b5dd246",
   "metadata": {},
   "outputs": [
    {
     "data": {
      "application/vnd.jupyter.widget-view+json": {
       "model_id": "2d0f22ffe0ee48d4baf3306fbd052f91",
       "version_major": 2,
       "version_minor": 0
      },
      "text/plain": [
       "interactive(children=(IntSlider(value=10, description='Lowest Recovery Rate States: ', layout=Layout(width='70…"
      ]
     },
     "metadata": {},
     "output_type": "display_data"
    }
   ],
   "source": [
    "widgets.interactive(update_low_rec_states, val = low_rec_states)"
   ]
  },
  {
   "cell_type": "code",
   "execution_count": null,
   "id": "61f50494",
   "metadata": {},
   "outputs": [],
   "source": []
  }
 ],
 "metadata": {
  "kernelspec": {
   "display_name": "Python 3",
   "language": "python",
   "name": "python3"
  },
  "language_info": {
   "codemirror_mode": {
    "name": "ipython",
    "version": 3
   },
   "file_extension": ".py",
   "mimetype": "text/x-python",
   "name": "python",
   "nbconvert_exporter": "python",
   "pygments_lexer": "ipython3",
   "version": "3.8.6"
  }
 },
 "nbformat": 4,
 "nbformat_minor": 5
}
